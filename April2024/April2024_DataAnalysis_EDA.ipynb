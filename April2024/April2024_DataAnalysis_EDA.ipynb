{
  "cells": [
    {
      "cell_type": "code",
      "execution_count": null,
      "metadata": {
        "id": "hYhBmFioCd0Y"
      },
      "outputs": [],
      "source": [
        "## We are going to use DuckDB which is a way to use SQL code in Python essentially"
      ]
    },
    {
      "cell_type": "code",
      "execution_count": null,
      "metadata": {
        "id": "G04bxQwtCS4a"
      },
      "outputs": [],
      "source": [
        "import duckdb"
      ]
    },
    {
      "cell_type": "code",
      "execution_count": null,
      "metadata": {
        "id": "FOqzpY-PCTms"
      },
      "outputs": [],
      "source": [
        "shopping = duckdb.read_csv('shopping_trends_updated.csv')"
      ]
    },
    {
      "cell_type": "code",
      "execution_count": null,
      "metadata": {
        "colab": {
          "base_uri": "https://localhost:8080/"
        },
        "id": "MZ202DQICjj5",
        "outputId": "e9d86464-bc45-42e6-e00e-312c257ddd82"
      },
      "outputs": [
        {
          "data": {
            "text/plain": [
              "['Customer ID',\n",
              " 'Age',\n",
              " 'Gender',\n",
              " 'Item Purchased',\n",
              " 'Category',\n",
              " 'Purchase Amount (USD)',\n",
              " 'Location',\n",
              " 'Size',\n",
              " 'Color',\n",
              " 'Season',\n",
              " 'Review Rating',\n",
              " 'Subscription Status',\n",
              " 'Shipping Type',\n",
              " 'Discount Applied',\n",
              " 'Promo Code Used',\n",
              " 'Previous Purchases',\n",
              " 'Payment Method',\n",
              " 'Frequency of Purchases']"
            ]
          },
          "execution_count": 13,
          "metadata": {},
          "output_type": "execute_result"
        }
      ],
      "source": [
        "# Evaluate what columns we have to use\n",
        "duckdb.sql('select * from shopping limit 1').columns"
      ]
    },
    {
      "cell_type": "markdown",
      "metadata": {
        "id": "6GsyQFDFDjUe"
      },
      "source": [
        "**What to do first?**\n",
        "\n",
        "- In this example we will start by looking at the first few rows to get a better understanding of our data.\n",
        "\n",
        "- We will then get introduced to who you're working with. What part of the business is the stakeholder for this specific project? They're (I'm) going to have a question that they need solved. In groups, you'll start hypothesizing the next best step based on the questions I have and the data provided."
      ]
    },
    {
      "cell_type": "code",
      "execution_count": null,
      "metadata": {
        "colab": {
          "base_uri": "https://localhost:8080/"
        },
        "id": "NtaW-DXMC_Yw",
        "outputId": "e8338314-c1f9-4476-fda0-780965286b10"
      },
      "outputs": [
        {
          "name": "stdout",
          "output_type": "stream",
          "text": [
            "┌─────────────┬───────┬─────────┬────────────────┬─────────────┬───────────────────────┬────────────────┬─────────┬───────────┬─────────┬───────────────┬─────────────────────┬────────────────┬──────────────────┬─────────────────┬────────────────────┬────────────────┬────────────────────────┐\n",
            "│ Customer ID │  Age  │ Gender  │ Item Purchased │  Category   │ Purchase Amount (USD) │    Location    │  Size   │   Color   │ Season  │ Review Rating │ Subscription Status │ Shipping Type  │ Discount Applied │ Promo Code Used │ Previous Purchases │ Payment Method │ Frequency of Purchases │\n",
            "│    int64    │ int64 │ varchar │    varchar     │   varchar   │         int64         │    varchar     │ varchar │  varchar  │ varchar │    double     │       varchar       │    varchar     │     varchar      │     varchar     │       int64        │    varchar     │        varchar         │\n",
            "├─────────────┼───────┼─────────┼────────────────┼─────────────┼───────────────────────┼────────────────┼─────────┼───────────┼─────────┼───────────────┼─────────────────────┼────────────────┼──────────────────┼─────────────────┼────────────────────┼────────────────┼────────────────────────┤\n",
            "│           1 │    55 │ Male    │ Blouse         │ Clothing    │                    53 │ Kentucky       │ L       │ Gray      │ Winter  │           3.1 │ Yes                 │ Express        │ Yes              │ Yes             │                 14 │ Venmo          │ Fortnightly            │\n",
            "│           2 │    19 │ Male    │ Sweater        │ Clothing    │                    64 │ Maine          │ L       │ Maroon    │ Winter  │           3.1 │ Yes                 │ Express        │ Yes              │ Yes             │                  2 │ Cash           │ Fortnightly            │\n",
            "│           3 │    50 │ Male    │ Jeans          │ Clothing    │                    73 │ Massachusetts  │ S       │ Maroon    │ Spring  │           3.1 │ Yes                 │ Free Shipping  │ Yes              │ Yes             │                 23 │ Credit Card    │ Weekly                 │\n",
            "│           4 │    21 │ Male    │ Sandals        │ Footwear    │                    90 │ Rhode Island   │ M       │ Maroon    │ Spring  │           3.5 │ Yes                 │ Next Day Air   │ Yes              │ Yes             │                 49 │ PayPal         │ Weekly                 │\n",
            "│           5 │    45 │ Male    │ Blouse         │ Clothing    │                    49 │ Oregon         │ M       │ Turquoise │ Spring  │           2.7 │ Yes                 │ Free Shipping  │ Yes              │ Yes             │                 31 │ PayPal         │ Annually               │\n",
            "│           6 │    46 │ Male    │ Sneakers       │ Footwear    │                    20 │ Wyoming        │ M       │ White     │ Summer  │           2.9 │ Yes                 │ Standard       │ Yes              │ Yes             │                 14 │ Venmo          │ Weekly                 │\n",
            "│           7 │    63 │ Male    │ Shirt          │ Clothing    │                    85 │ Montana        │ M       │ Gray      │ Fall    │           3.2 │ Yes                 │ Free Shipping  │ Yes              │ Yes             │                 49 │ Cash           │ Quarterly              │\n",
            "│           8 │    27 │ Male    │ Shorts         │ Clothing    │                    34 │ Louisiana      │ L       │ Charcoal  │ Winter  │           3.2 │ Yes                 │ Free Shipping  │ Yes              │ Yes             │                 19 │ Credit Card    │ Weekly                 │\n",
            "│           9 │    26 │ Male    │ Coat           │ Outerwear   │                    97 │ West Virginia  │ L       │ Silver    │ Summer  │           2.6 │ Yes                 │ Express        │ Yes              │ Yes             │                  8 │ Venmo          │ Annually               │\n",
            "│          10 │    57 │ Male    │ Handbag        │ Accessories │                    31 │ Missouri       │ M       │ Pink      │ Spring  │           4.8 │ Yes                 │ 2-Day Shipping │ Yes              │ Yes             │                  4 │ Cash           │ Quarterly              │\n",
            "│           · │     · │  ·      │  ·             │      ·      │                     · │    ·           │ ·       │  ·        │   ·     │            ·  │  ·                  │    ·           │  ·               │  ·              │                  · │  ·             │    ·                   │\n",
            "│           · │     · │  ·      │  ·             │      ·      │                     · │    ·           │ ·       │  ·        │   ·     │            ·  │  ·                  │    ·           │  ·               │  ·              │                  · │  ·             │    ·                   │\n",
            "│           · │     · │  ·      │  ·             │      ·      │                     · │    ·           │ ·       │  ·        │   ·     │            ·  │  ·                  │    ·           │  ·               │  ·              │                  · │  ·             │    ·                   │\n",
            "│          91 │    25 │ Male    │ Hat            │ Accessories │                    48 │ South Carolina │ L       │ Violet    │ Summer  │           2.9 │ Yes                 │ Express        │ Yes              │ Yes             │                 29 │ Credit Card    │ Monthly                │\n",
            "│          92 │    44 │ Male    │ Scarf          │ Accessories │                    99 │ South Carolina │ S       │ Green     │ Winter  │           4.6 │ Yes                 │ Standard       │ Yes              │ Yes             │                 18 │ Credit Card    │ Every 3 Months         │\n",
            "│          93 │    61 │ Male    │ Jacket         │ Outerwear   │                    87 │ Texas          │ M       │ Olive     │ Winter  │           4.4 │ Yes                 │ 2-Day Shipping │ Yes              │ Yes             │                 13 │ Venmo          │ Every 3 Months         │\n",
            "│          94 │    37 │ Male    │ Sweater        │ Clothing    │                    62 │ Florida        │ M       │ Purple    │ Fall    │           4.5 │ Yes                 │ Standard       │ Yes              │ Yes             │                 46 │ Credit Card    │ Weekly                 │\n",
            "│          95 │    58 │ Male    │ Skirt          │ Clothing    │                    76 │ Nevada         │ S       │ Silver    │ Spring  │           4.6 │ Yes                 │ Free Shipping  │ Yes              │ Yes             │                 28 │ Credit Card    │ Weekly                 │\n",
            "│          96 │    37 │ Male    │ Sneakers       │ Footwear    │                   100 │ Missouri       │ L       │ Pink      │ Fall    │           3.8 │ Yes                 │ Free Shipping  │ Yes              │ Yes             │                 48 │ PayPal         │ Monthly                │\n",
            "│          97 │    32 │ Male    │ Gloves         │ Accessories │                    73 │ Delaware       │ S       │ Gold      │ Spring  │           3.6 │ Yes                 │ Express        │ Yes              │ Yes             │                 43 │ Venmo          │ Every 3 Months         │\n",
            "│          98 │    21 │ Male    │ Shoes          │ Footwear    │                    92 │ Virginia       │ M       │ Teal      │ Winter  │           4.8 │ Yes                 │ Store Pickup   │ Yes              │ Yes             │                 37 │ Cash           │ Annually               │\n",
            "│          99 │    20 │ Male    │ Jeans          │ Clothing    │                    67 │ New York       │ XL      │ Teal      │ Spring  │           2.6 │ Yes                 │ Next Day Air   │ Yes              │ Yes             │                 20 │ Bank Transfer  │ Annually               │\n",
            "│         100 │    26 │ Male    │ Hoodie         │ Clothing    │                    40 │ Missouri       │ XL      │ Indigo    │ Summer  │           3.7 │ Yes                 │ Express        │ Yes              │ Yes             │                 33 │ Debit Card     │ Quarterly              │\n",
            "├─────────────┴───────┴─────────┴────────────────┴─────────────┴───────────────────────┴────────────────┴─────────┴───────────┴─────────┴───────────────┴─────────────────────┴────────────────┴──────────────────┴─────────────────┴────────────────────┴────────────────┴────────────────────────┤\n",
            "│ 100 rows (20 shown)                                                                                                                                                                                                                                                                   18 columns │\n",
            "└──────────────────────────────────────────────────────────────────────────────────────────────────────────────────────────────────────────────────────────────────────────────────────────────────────────────────────────────────────────────────────────────────────────────────────────────────┘\n",
            "\n"
          ]
        }
      ],
      "source": [
        "duckdb.sql('select * from shopping limit 100').show(max_width=1000)"
      ]
    },
    {
      "cell_type": "markdown",
      "metadata": {
        "id": "6QmrFH-VHJUg"
      },
      "source": [
        "**Let's make some observations about our data**\n",
        "\n",
        "*What is represented here?*\n",
        "* Ecommerce Purchases\n",
        "\n",
        "\n",
        "<br>\n",
        "<br>\n",
        "<br>\n",
        "\n",
        "*What Details do we have about the purchases?*\n",
        "* Purchase:\n",
        "  * Category\n",
        "  * Subcategory\n",
        "  * Price\n",
        "  * Size\n",
        "  * Color\n",
        "  * Season (if applicable) (the season where someone would wear this item)\n",
        "  * Review Rating\n",
        "  * Payment Method\n",
        "\n",
        "<br>\n",
        "<br>\n",
        "\n",
        "*And what about the customer?*\n",
        "* Customer:\n",
        "  * Age\n",
        "  * Gender\n",
        "  * Location\n",
        "  * Subscription Status (y/n)\n",
        "  * Number of Previous Purchases\n",
        "  * Frequency of purchases\n",
        "\n",
        "\n",
        "So, different people in the organization will care about different things.\n",
        "\n",
        "<br>\n",
        "<br>\n",
        "<br>\n",
        "\n",
        "Product (Owners/Managers):\n",
        "* Which categories and subcategories are the best performing?\n",
        "* Which States are selling the most? What are they selling?\n",
        "\n",
        "<br>\n",
        "\n",
        "Supply Chain:\n",
        "* Which states are selling the most?\n",
        "  * This will be for different reasons then product owners though.SC might want to know this to know that they need to send from Centralized Distro center to local Distro Center _X_ of a certain product.\n",
        "  * Timing of the sales matters as well.\n",
        "    * Won't send Winter items to local distro in April (expensive to store those produts until Winter when sales happen)\n",
        "\n",
        "  \n",
        "* What are they selling?\n",
        "  * Won't send huge winter coats down to Florida."
      ]
    },
    {
      "cell_type": "code",
      "execution_count": null,
      "metadata": {
        "id": "7jaXPVe_NTOP"
      },
      "outputs": [],
      "source": []
    },
    {
      "cell_type": "markdown",
      "metadata": {
        "id": "HCQNaiPYLIJr"
      },
      "source": [
        "# Marketing has Questions\n",
        "\n",
        "**Now me. I'm in Marketing. I have some questions I need you, the Data Analyst, to answer using data**\n",
        "\n",
        "1. Where should I focus marketing efforts for Handbags?\n",
        "2. I want to know for some ads what colors are most popular amongst our products. For shirts as well as pants, what are the most common colors?\n",
        "3. What are our highest rated products so I can market those more?\n",
        "4. Are subscriptions more common, or one-off purchases?\n",
        "5. How old are the people that buy from us?"
      ]
    },
    {
      "cell_type": "code",
      "execution_count": null,
      "metadata": {
        "id": "P0dmn5dPNR8w"
      },
      "outputs": [],
      "source": []
    },
    {
      "cell_type": "markdown",
      "metadata": {
        "id": "N3gvnfx6M8F_"
      },
      "source": [
        "## Now it's your turn\n",
        "\n",
        "In your groups, take 10 mins (5 mins and 5 mins) to discuss two things:\n",
        "1. What follow up questions do you have for me (Marketing)?\n",
        "2. How would you start getting the answers to these questions?"
      ]
    },
    {
      "cell_type": "code",
      "execution_count": null,
      "metadata": {
        "id": "eE018nINNRcf"
      },
      "outputs": [],
      "source": []
    }
  ],
  "metadata": {
    "colab": {
      "provenance": []
    },
    "kernelspec": {
      "display_name": "Python 3",
      "name": "python3"
    },
    "language_info": {
      "name": "python"
    }
  },
  "nbformat": 4,
  "nbformat_minor": 0
}
