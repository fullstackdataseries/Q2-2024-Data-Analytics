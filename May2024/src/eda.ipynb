{
 "cells": [
  {
   "cell_type": "code",
   "execution_count": 1,
   "metadata": {},
   "outputs": [],
   "source": [
    "import duckdb"
   ]
  },
  {
   "cell_type": "markdown",
   "metadata": {},
   "source": [
    "## The Question\n",
    "\n",
    "We landed on this question with Marketing *after* we had a conversation with the Product team. \n",
    "<br>\n",
    "<br>\n",
    "*The question is:*\n",
    "\n",
    "\"Which demographic segments demonstrate the highest engagement and sales conversion rates for specific product categories, and how can targeted marketing campaigns be optimized to increase these metrics?\"\n",
    "<br>\n",
    " <br>\n",
    "## Next Steps:\n",
    "1. Load the dataset 'shopping_trends_updated.csv' into a DataFrame.\n",
    "2. Perform initial data exploration to understand the distribution of demographics and purchase behaviors.\n",
    "3. Identify the key demographic segments and analyze their engagement and sales conversion rates across different product categories.\n",
    "4. Use statistical methods to validate the findings.\n",
    "5. Develop visualizations to represent the insights effectively.\n",
    "6. Draft recommendations for targeted marketing strategies based on the analyzed data.  \n",
    "<br>\n",
    "<br>\n",
    "\n",
    "# Best Cols to start exploring?\n",
    "\n",
    "The columns in shopping_trends_updated.csv that can provide a good breakdown of demographic information and help analyze which products perform best within certain demographic segments are:\n",
    "\n",
    "## Demographic Information:\n",
    "- Age\n",
    "- Gender\n",
    "- Location\n",
    "- Subscription Status\n",
    "\n",
    "## Product Performance:\n",
    "- Item Purchased\n",
    "- Category\n",
    "- Purchase Amount (USD)\n",
    "- Review Rating\n",
    "\n",
    "These columns can be used to segment the data by demographic details and analyze product preferences and performance within those segments. For example, you can aggregate data to see which product categories are most popular among different age groups or which items have the highest review ratings in different locations.\n"
   ]
  },
  {
   "cell_type": "code",
   "execution_count": 64,
   "metadata": {},
   "outputs": [],
   "source": [
    "from pathlib import Path\n",
    "\n",
    "# Parent goes up to src folder, resolve gets that path, parent again goes to may 2024 folder\n",
    "data_path = Path().parent.resolve().parent / 'data/shopping_trends_updated.csv'\n",
    "\n",
    "# Normalize names to make it easier to work with, no spaces\n",
    "data = duckdb.read_csv(data_path, normalize_names=True)"
   ]
  },
  {
   "cell_type": "code",
   "execution_count": 65,
   "metadata": {},
   "outputs": [
    {
     "ename": "CatalogException",
     "evalue": "Catalog Error: Table with name \"shopping_data\" already exists!",
     "output_type": "error",
     "traceback": [
      "\u001b[0;31m---------------------------------------------------------------------------\u001b[0m",
      "\u001b[0;31mCatalogException\u001b[0m                          Traceback (most recent call last)",
      "Cell \u001b[0;32mIn[65], line 2\u001b[0m\n\u001b[1;32m      1\u001b[0m \u001b[38;5;66;03m#con = duckdb.connect(database = \":memory:\")\u001b[39;00m\n\u001b[0;32m----> 2\u001b[0m \u001b[43mduckdb\u001b[49m\u001b[38;5;241;43m.\u001b[39;49m\u001b[43mexecute\u001b[49m\u001b[43m(\u001b[49m\u001b[38;5;124;43m'\u001b[39;49m\u001b[38;5;124;43mCREATE TABLE shopping_data as SELECT * FROM data\u001b[39;49m\u001b[38;5;124;43m'\u001b[39;49m\u001b[43m)\u001b[49m\n\u001b[1;32m      3\u001b[0m data \u001b[38;5;241m=\u001b[39m duckdb\u001b[38;5;241m.\u001b[39msql(\u001b[38;5;124m'''\u001b[39m\n\u001b[1;32m      4\u001b[0m \u001b[38;5;124m           UPDATE shopping_data\u001b[39m\n\u001b[1;32m      5\u001b[0m \u001b[38;5;124m           SET frequency_of_purchases = \u001b[39m\u001b[38;5;124m'\u001b[39m\u001b[38;5;124mEveryTwoWeeks\u001b[39m\u001b[38;5;124m'\u001b[39m\n\u001b[1;32m      6\u001b[0m \u001b[38;5;124m           WHERE frequency_of_purchases = \u001b[39m\u001b[38;5;124m'\u001b[39m\u001b[38;5;124mFortnightly\u001b[39m\u001b[38;5;124m'\u001b[39m\n\u001b[1;32m      7\u001b[0m \u001b[38;5;124m           \u001b[39m\u001b[38;5;124m'''\u001b[39m)\n",
      "\u001b[0;31mCatalogException\u001b[0m: Catalog Error: Table with name \"shopping_data\" already exists!"
     ]
    }
   ],
   "source": [
    "# Create a table in memory -- 1 way to do it\n",
    "#con = duckdb.connect(database = \":memory:\")\n",
    "#con.execute('SELECT * FROM SHOPPING_DATA').fetchone()\n",
    "\n",
    "# Create a table in memory -- another way to do it\n",
    "duckdb.execute('CREATE TABLE shopping_data as SELECT * FROM data')\n",
    "# Update the table in memory\n",
    "data = duckdb.sql('''\n",
    "           UPDATE shopping_data\n",
    "           SET frequency_of_purchases = 'EveryTwoWeeks'\n",
    "           WHERE frequency_of_purchases = 'Fortnightly'\n",
    "           ''')"
   ]
  },
  {
   "cell_type": "code",
   "execution_count": 66,
   "metadata": {},
   "outputs": [
    {
     "name": "stdout",
     "output_type": "stream",
     "text": [
      "┌─────────────┬───────┬─────────┬────────────────┬─────────────┬─────────────────────┬────────────────┬─────────┬───────────┬─────────┬───────────────┬─────────────────────┬────────────────┬──────────────────┬─────────────────┬────────────────────┬────────────────┬────────────────────────┐\n",
      "│ customer_id │  age  │ gender  │ item_purchased │  category   │ purchase_amount_usd │   _location    │  size   │   color   │ season  │ review_rating │ subscription_status │ shipping_type  │ discount_applied │ promo_code_used │ previous_purchases │ payment_method │ frequency_of_purchases │\n",
      "│    int64    │ int64 │ varchar │    varchar     │   varchar   │        int64        │    varchar     │ varchar │  varchar  │ varchar │    double     │       varchar       │    varchar     │     varchar      │     varchar     │       int64        │    varchar     │        varchar         │\n",
      "├─────────────┼───────┼─────────┼────────────────┼─────────────┼─────────────────────┼────────────────┼─────────┼───────────┼─────────┼───────────────┼─────────────────────┼────────────────┼──────────────────┼─────────────────┼────────────────────┼────────────────┼────────────────────────┤\n",
      "│           1 │    55 │ Male    │ Blouse         │ Clothing    │                  53 │ Kentucky       │ L       │ Gray      │ Winter  │           3.1 │ Yes                 │ Express        │ Yes              │ Yes             │                 14 │ Venmo          │ EveryTwoWeeks          │\n",
      "│           2 │    19 │ Male    │ Sweater        │ Clothing    │                  64 │ Maine          │ L       │ Maroon    │ Winter  │           3.1 │ Yes                 │ Express        │ Yes              │ Yes             │                  2 │ Cash           │ EveryTwoWeeks          │\n",
      "│           3 │    50 │ Male    │ Jeans          │ Clothing    │                  73 │ Massachusetts  │ S       │ Maroon    │ Spring  │           3.1 │ Yes                 │ Free Shipping  │ Yes              │ Yes             │                 23 │ Credit Card    │ Weekly                 │\n",
      "│           4 │    21 │ Male    │ Sandals        │ Footwear    │                  90 │ Rhode Island   │ M       │ Maroon    │ Spring  │           3.5 │ Yes                 │ Next Day Air   │ Yes              │ Yes             │                 49 │ PayPal         │ Weekly                 │\n",
      "│           5 │    45 │ Male    │ Blouse         │ Clothing    │                  49 │ Oregon         │ M       │ Turquoise │ Spring  │           2.7 │ Yes                 │ Free Shipping  │ Yes              │ Yes             │                 31 │ PayPal         │ Annually               │\n",
      "│           6 │    46 │ Male    │ Sneakers       │ Footwear    │                  20 │ Wyoming        │ M       │ White     │ Summer  │           2.9 │ Yes                 │ Standard       │ Yes              │ Yes             │                 14 │ Venmo          │ Weekly                 │\n",
      "│           7 │    63 │ Male    │ Shirt          │ Clothing    │                  85 │ Montana        │ M       │ Gray      │ Fall    │           3.2 │ Yes                 │ Free Shipping  │ Yes              │ Yes             │                 49 │ Cash           │ Quarterly              │\n",
      "│           8 │    27 │ Male    │ Shorts         │ Clothing    │                  34 │ Louisiana      │ L       │ Charcoal  │ Winter  │           3.2 │ Yes                 │ Free Shipping  │ Yes              │ Yes             │                 19 │ Credit Card    │ Weekly                 │\n",
      "│           9 │    26 │ Male    │ Coat           │ Outerwear   │                  97 │ West Virginia  │ L       │ Silver    │ Summer  │           2.6 │ Yes                 │ Express        │ Yes              │ Yes             │                  8 │ Venmo          │ Annually               │\n",
      "│          10 │    57 │ Male    │ Handbag        │ Accessories │                  31 │ Missouri       │ M       │ Pink      │ Spring  │           4.8 │ Yes                 │ 2-Day Shipping │ Yes              │ Yes             │                  4 │ Cash           │ Quarterly              │\n",
      "│           · │     · │  ·      │  ·             │      ·      │                   · │    ·           │ ·       │  ·        │   ·     │            ·  │  ·                  │    ·           │  ·               │  ·              │                  · │  ·             │    ·                   │\n",
      "│           · │     · │  ·      │  ·             │      ·      │                   · │    ·           │ ·       │  ·        │   ·     │            ·  │  ·                  │    ·           │  ·               │  ·              │                  · │  ·             │    ·                   │\n",
      "│           · │     · │  ·      │  ·             │      ·      │                   · │    ·           │ ·       │  ·        │   ·     │            ·  │  ·                  │    ·           │  ·               │  ·              │                  · │  ·             │    ·                   │\n",
      "│          91 │    25 │ Male    │ Hat            │ Accessories │                  48 │ South Carolina │ L       │ Violet    │ Summer  │           2.9 │ Yes                 │ Express        │ Yes              │ Yes             │                 29 │ Credit Card    │ Monthly                │\n",
      "│          92 │    44 │ Male    │ Scarf          │ Accessories │                  99 │ South Carolina │ S       │ Green     │ Winter  │           4.6 │ Yes                 │ Standard       │ Yes              │ Yes             │                 18 │ Credit Card    │ Every 3 Months         │\n",
      "│          93 │    61 │ Male    │ Jacket         │ Outerwear   │                  87 │ Texas          │ M       │ Olive     │ Winter  │           4.4 │ Yes                 │ 2-Day Shipping │ Yes              │ Yes             │                 13 │ Venmo          │ Every 3 Months         │\n",
      "│          94 │    37 │ Male    │ Sweater        │ Clothing    │                  62 │ Florida        │ M       │ Purple    │ Fall    │           4.5 │ Yes                 │ Standard       │ Yes              │ Yes             │                 46 │ Credit Card    │ Weekly                 │\n",
      "│          95 │    58 │ Male    │ Skirt          │ Clothing    │                  76 │ Nevada         │ S       │ Silver    │ Spring  │           4.6 │ Yes                 │ Free Shipping  │ Yes              │ Yes             │                 28 │ Credit Card    │ Weekly                 │\n",
      "│          96 │    37 │ Male    │ Sneakers       │ Footwear    │                 100 │ Missouri       │ L       │ Pink      │ Fall    │           3.8 │ Yes                 │ Free Shipping  │ Yes              │ Yes             │                 48 │ PayPal         │ Monthly                │\n",
      "│          97 │    32 │ Male    │ Gloves         │ Accessories │                  73 │ Delaware       │ S       │ Gold      │ Spring  │           3.6 │ Yes                 │ Express        │ Yes              │ Yes             │                 43 │ Venmo          │ Every 3 Months         │\n",
      "│          98 │    21 │ Male    │ Shoes          │ Footwear    │                  92 │ Virginia       │ M       │ Teal      │ Winter  │           4.8 │ Yes                 │ Store Pickup   │ Yes              │ Yes             │                 37 │ Cash           │ Annually               │\n",
      "│          99 │    20 │ Male    │ Jeans          │ Clothing    │                  67 │ New York       │ XL      │ Teal      │ Spring  │           2.6 │ Yes                 │ Next Day Air   │ Yes              │ Yes             │                 20 │ Bank Transfer  │ Annually               │\n",
      "│         100 │    26 │ Male    │ Hoodie         │ Clothing    │                  40 │ Missouri       │ XL      │ Indigo    │ Summer  │           3.7 │ Yes                 │ Express        │ Yes              │ Yes             │                 33 │ Debit Card     │ Quarterly              │\n",
      "├─────────────┴───────┴─────────┴────────────────┴─────────────┴─────────────────────┴────────────────┴─────────┴───────────┴─────────┴───────────────┴─────────────────────┴────────────────┴──────────────────┴─────────────────┴────────────────────┴────────────────┴────────────────────────┤\n",
      "│ 100 rows (20 shown)                                                                                                                                                                                                                                                                 18 columns │\n",
      "└────────────────────────────────────────────────────────────────────────────────────────────────────────────────────────────────────────────────────────────────────────────────────────────────────────────────────────────────────────────────────────────────────────────────────────────────┘\n",
      "\n"
     ]
    }
   ],
   "source": [
    "# Get a high level expectation of the data\n",
    "duckdb.sql('select * from shopping_data limit 100').show(max_width=1000)"
   ]
  },
  {
   "cell_type": "code",
   "execution_count": 74,
   "metadata": {},
   "outputs": [
    {
     "data": {
      "text/plain": [
       "┌─────────────────┬──────────────┐\n",
       "│ promo_code_used │ count_star() │\n",
       "│     varchar     │    int64     │\n",
       "├─────────────────┼──────────────┤\n",
       "│ No              │         2223 │\n",
       "│ Yes             │         1677 │\n",
       "└─────────────────┴──────────────┘"
      ]
     },
     "execution_count": 74,
     "metadata": {},
     "output_type": "execute_result"
    }
   ],
   "source": [
    "duckdb.sql('select distinct promo_code_used, count(*) from shopping_data group by promo_code_used')\n",
    "# Yes: 1677, No: 2223\n"
   ]
  },
  {
   "cell_type": "code",
   "execution_count": 75,
   "metadata": {},
   "outputs": [
    {
     "data": {
      "text/plain": [
       "┌────────────────┬──────────────┐\n",
       "│ payment_method │ count_star() │\n",
       "│    varchar     │    int64     │\n",
       "├────────────────┼──────────────┤\n",
       "│ Venmo          │          634 │\n",
       "│ Bank Transfer  │          612 │\n",
       "│ Cash           │          670 │\n",
       "│ Debit Card     │          636 │\n",
       "│ Credit Card    │          671 │\n",
       "│ PayPal         │          677 │\n",
       "└────────────────┴──────────────┘"
      ]
     },
     "execution_count": 75,
     "metadata": {},
     "output_type": "execute_result"
    }
   ],
   "source": [
    "\n",
    "duckdb.sql('select distinct payment_method, count(*) from shopping_data group by payment_method')\n",
    "# Credit Card    │          671 │\n",
    "# │ Venmo          │          634 │\n",
    "# │ Cash           │          670 │\n",
    "# │ Bank Transfer  │          612 │\n",
    "# │ PayPal         │          677 │\n",
    "# │ Debit Card     │          636 \n"
   ]
  },
  {
   "cell_type": "code",
   "execution_count": 76,
   "metadata": {},
   "outputs": [
    {
     "data": {
      "text/plain": [
       "┌────────────────────────┬──────────────┐\n",
       "│ frequency_of_purchases │ count_star() │\n",
       "│        varchar         │    int64     │\n",
       "├────────────────────────┼──────────────┤\n",
       "│ Bi-Weekly              │          547 │\n",
       "│ Annually               │          572 │\n",
       "│ Monthly                │          553 │\n",
       "│ Weekly                 │          539 │\n",
       "│ Quarterly              │          563 │\n",
       "│ Every 3 Months         │          584 │\n",
       "│ EveryTwoWeeks          │          542 │\n",
       "└────────────────────────┴──────────────┘"
      ]
     },
     "execution_count": 76,
     "metadata": {},
     "output_type": "execute_result"
    }
   ],
   "source": [
    "\n",
    "duckdb.sql('select distinct frequency_of_purchases, count(*) from shopping_data group by frequency_of_purchases')\n",
    "# ┌────────────────────────┬──────────────┐\n",
    "# │ frequency_of_purchases │ count_star() │\n",
    "# │        varchar         │    int64     │\n",
    "# ├────────────────────────┼──────────────┤\n",
    "# │ Quarterly              │          563 │\n",
    "# │ Every 3 Months         │          584 │\n",
    "# │ Bi-Weekly              │          547 │\n",
    "# │ Annually               │          572 │\n",
    "# │ Monthly                │          553 │\n",
    "# │ Weekly                 │          539 │\n",
    "# │ EveryTwoWeeks          │          542 │\n"
   ]
  },
  {
   "cell_type": "code",
   "execution_count": 77,
   "metadata": {},
   "outputs": [
    {
     "data": {
      "text/plain": [
       "┌─────────────────────┬──────────────┐\n",
       "│ subscription_status │ count_star() │\n",
       "│       varchar       │    int64     │\n",
       "├─────────────────────┼──────────────┤\n",
       "│ Yes                 │         1053 │\n",
       "│ No                  │         2847 │\n",
       "└─────────────────────┴──────────────┘"
      ]
     },
     "execution_count": 77,
     "metadata": {},
     "output_type": "execute_result"
    }
   ],
   "source": [
    "\n",
    "duckdb.sql('select distinct subscription_status, count(*) from shopping_data group by subscription_status')\n",
    "# ┌─────────────────────┬──────────────┐\n",
    "# │ subscription_status │ count_star() │\n",
    "# │       varchar       │    int64     │\n",
    "# ├─────────────────────┼──────────────┤\n",
    "# │ No                  │         2847 │\n",
    "# │ Yes                 │         1053 │\n"
   ]
  },
  {
   "cell_type": "code",
   "execution_count": null,
   "metadata": {},
   "outputs": [],
   "source": []
  }
 ],
 "metadata": {
  "kernelspec": {
   "display_name": "fullstack_workshop_env",
   "language": "python",
   "name": "python3"
  },
  "language_info": {
   "codemirror_mode": {
    "name": "ipython",
    "version": 3
   },
   "file_extension": ".py",
   "mimetype": "text/x-python",
   "name": "python",
   "nbconvert_exporter": "python",
   "pygments_lexer": "ipython3",
   "version": "3.11.5"
  }
 },
 "nbformat": 4,
 "nbformat_minor": 2
}
